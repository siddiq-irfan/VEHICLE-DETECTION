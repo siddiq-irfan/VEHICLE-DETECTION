{
 "cells": [
  {
   "cell_type": "code",
   "execution_count": 15,
   "id": "34ba5a75",
   "metadata": {},
   "outputs": [],
   "source": [
    "import os\n",
    "import time\n",
    "import math\n",
    "import shutil\n",
    "import matplotlib.pyplot as plt\n",
    "import tensorflow as tf\n",
    "from tensorflow.keras import layers\n",
    "from sklearn.model_selection import train_test_split"
   ]
  },
  {
   "cell_type": "code",
   "execution_count": 16,
   "id": "f74bedea",
   "metadata": {},
   "outputs": [],
   "source": [
    "VEHICLES_DIR = 'C:\\\\Users\\\\Admin\\\\Desktop\\\\40 projects\\\\data\\\\vehicles' \n",
    "NON_VEHICLES_DIR = 'C:\\\\Users\\\\Admin\\\\Desktop\\\\40 projects\\\\data\\\\non-vehicles'"
   ]
  },
  {
   "cell_type": "code",
   "execution_count": 17,
   "id": "81141a1d",
   "metadata": {},
   "outputs": [],
   "source": [
    "vehicles_image_names = os.listdir(VEHICLES_DIR)\n",
    "non_vehicles_image_names = os.listdir(NON_VEHICLES_DIR)"
   ]
  },
  {
   "cell_type": "code",
   "execution_count": 18,
   "id": "a64a2b9a",
   "metadata": {},
   "outputs": [
    {
     "name": "stdout",
     "output_type": "stream",
     "text": [
      "TOTAL NO. OF VEHICLE IMAGES: 8792\n",
      "TOTAL NO. OF NON-VEHICLE IMAGES: 8968\n"
     ]
    }
   ],
   "source": [
    "print('TOTAL NO. OF VEHICLE IMAGES:', len(vehicles_image_names))\n",
    "print('TOTAL NO. OF NON-VEHICLE IMAGES:', len(non_vehicles_image_names))"
   ]
  },
  {
   "cell_type": "code",
   "execution_count": 19,
   "id": "eaf4f1db",
   "metadata": {},
   "outputs": [
    {
     "name": "stdout",
     "output_type": "stream",
     "text": [
      "['1.png', '10.png', '1000.png', '1001.png', '1002.png', '1003.png', '1004.png', '1005.png', '1006.png', '1007.png']\n",
      "['extra1.png', 'extra10.png', 'extra100.png', 'extra1000.png', 'extra1001.png', 'extra1002.png', 'extra1003.png', 'extra1004.png', 'extra1005.png', 'extra1006.png']\n"
     ]
    }
   ],
   "source": [
    "print(vehicles_image_names[:10])\n",
    "print(non_vehicles_image_names[:10])"
   ]
  },
  {
   "cell_type": "markdown",
   "id": "259d7ae8",
   "metadata": {},
   "source": [
    "## Creatuing train test directory"
   ]
  },
  {
   "cell_type": "code",
   "execution_count": 20,
   "id": "23ea09fb",
   "metadata": {},
   "outputs": [],
   "source": [
    "BASE_DIR = '../tmp/'\n",
    "TRAIN_DIR = os.path.join(BASE_DIR, 'train')\n",
    "TEST_DIR = os.path.join(BASE_DIR, 'test')\n",
    "VEHICLES_TRAIN_DIR = os.path.join(TRAIN_DIR, 'vehicles')\n",
    "NON_VEHICLES_TRAIN_DIR = os.path.join(TRAIN_DIR, 'non-vehicles')\n",
    "VEHICLES_TEST_DIR = os.path.join(TEST_DIR, 'vehicles')\n",
    "NON_VEHICLES_TEST_DIR = os.path.join(TEST_DIR, 'non-vehicles')"
   ]
  },
  {
   "cell_type": "code",
   "execution_count": 21,
   "id": "1e4e644a",
   "metadata": {},
   "outputs": [],
   "source": [
    "TRAIN_SIZE = 0.8"
   ]
  },
  {
   "cell_type": "code",
   "execution_count": 22,
   "id": "afc5dd4e",
   "metadata": {},
   "outputs": [],
   "source": [
    "train_vehicles, test_vehicles = train_test_split(\n",
    "    vehicles_image_names, train_size=TRAIN_SIZE, shuffle=True, random_state=1\n",
    ")\n",
    "\n",
    "train_non_vehicles, test_non_vehicles = train_test_split(\n",
    "    non_vehicles_image_names, train_size=TRAIN_SIZE, shuffle=True, random_state=1\n",
    ")"
   ]
  },
  {
   "cell_type": "code",
   "execution_count": 23,
   "id": "1b82f9b5",
   "metadata": {},
   "outputs": [
    {
     "name": "stdout",
     "output_type": "stream",
     "text": [
      "TOTAL NO. OF TRAIN VEHICLE IMAGES: 7033\n",
      "TOTAL NO. OF TRAIN NON-VEHICLE IMAGES: 7174\n",
      "TOTAL NO. OF TEST VEHICLE IMAGES: 1759\n",
      "TOTAL NO. OF TEST NON-VEHICLE IMAGES: 1794\n"
     ]
    }
   ],
   "source": [
    "print('TOTAL NO. OF TRAIN VEHICLE IMAGES:', len(train_vehicles))\n",
    "print('TOTAL NO. OF TRAIN NON-VEHICLE IMAGES:', len(train_non_vehicles))\n",
    "\n",
    "print('TOTAL NO. OF TEST VEHICLE IMAGES:', len(test_vehicles))\n",
    "print('TOTAL NO. OF TEST NON-VEHICLE IMAGES:', len(test_non_vehicles))"
   ]
  },
  {
   "cell_type": "code",
   "execution_count": 26,
   "id": "23fe8e93",
   "metadata": {},
   "outputs": [],
   "source": [
    "def move_images(image_list, old_dir_path, new_dir_path):\n",
    "    if not os.path.exists(new_dir_path):\n",
    "        os.makedirs(new_dir_path)\n",
    "    \n",
    "    for file_name in image_list:\n",
    "        shutil.copy(\n",
    "            os.path.join(old_dir_path, file_name),\n",
    "            os.path.join(new_dir_path, file_name)\n",
    "        )\n",
    "    print(f'{len(image_list)} IMAGES COPIED TO {new_dir_path}')"
   ]
  },
  {
   "cell_type": "code",
   "execution_count": 27,
   "id": "7dde2106",
   "metadata": {},
   "outputs": [
    {
     "name": "stdout",
     "output_type": "stream",
     "text": [
      "7033 IMAGES COPIED TO ../tmp/train\\vehicles\n",
      "7174 IMAGES COPIED TO ../tmp/train\\non-vehicles\n",
      "1759 IMAGES COPIED TO ../tmp/test\\vehicles\n",
      "1794 IMAGES COPIED TO ../tmp/test\\non-vehicles\n"
     ]
    }
   ],
   "source": [
    "move_images(train_vehicles, VEHICLES_DIR, VEHICLES_TRAIN_DIR)\n",
    "move_images(train_non_vehicles, NON_VEHICLES_DIR, NON_VEHICLES_TRAIN_DIR)\n",
    "\n",
    "move_images(test_vehicles, VEHICLES_DIR, VEHICLES_TEST_DIR)\n",
    "move_images(test_non_vehicles, NON_VEHICLES_DIR, NON_VEHICLES_TEST_DIR)"
   ]
  },
  {
   "cell_type": "code",
   "execution_count": 28,
   "id": "c90d03d9",
   "metadata": {},
   "outputs": [
    {
     "data": {
      "text/plain": [
       "7033"
      ]
     },
     "execution_count": 28,
     "metadata": {},
     "output_type": "execute_result"
    }
   ],
   "source": [
    "len(os.listdir(VEHICLES_TRAIN_DIR))"
   ]
  },
  {
   "cell_type": "markdown",
   "id": "a0870b82",
   "metadata": {},
   "source": [
    "## preprocessing"
   ]
  },
  {
   "cell_type": "code",
   "execution_count": 29,
   "id": "35bd2b9c",
   "metadata": {},
   "outputs": [],
   "source": [
    "IMG_SIZE = 256"
   ]
  },
  {
   "cell_type": "code",
   "execution_count": 30,
   "id": "5e783bb2",
   "metadata": {},
   "outputs": [
    {
     "name": "stdout",
     "output_type": "stream",
     "text": [
      "Found 14207 images belonging to 2 classes.\n",
      "Found 3553 images belonging to 2 classes.\n"
     ]
    }
   ],
   "source": [
    "train_datagen = tf.keras.preprocessing.image.ImageDataGenerator(\n",
    "    rescale=1./255\n",
    ")\n",
    "\n",
    "train_generator = train_datagen.flow_from_directory(\n",
    "    TRAIN_DIR,\n",
    "    target_size=(IMG_SIZE, IMG_SIZE),\n",
    "    shuffle=True,\n",
    "    class_mode='binary'\n",
    ")\n",
    "\n",
    "test_datagen = tf.keras.preprocessing.image.ImageDataGenerator(\n",
    "    rescale=1./255\n",
    ")\n",
    "\n",
    "test_generator = test_datagen.flow_from_directory(\n",
    "    TEST_DIR,\n",
    "    target_size=(IMG_SIZE, IMG_SIZE),\n",
    "    class_mode='binary'\n",
    ")"
   ]
  },
  {
   "cell_type": "markdown",
   "id": "eb04871a",
   "metadata": {},
   "source": [
    "## model"
   ]
  },
  {
   "cell_type": "code",
   "execution_count": 31,
   "id": "650c022d",
   "metadata": {},
   "outputs": [
    {
     "name": "stdout",
     "output_type": "stream",
     "text": [
      "Model: \"sequential\"\n",
      "_________________________________________________________________\n",
      " Layer (type)                Output Shape              Param #   \n",
      "=================================================================\n",
      " conv2d (Conv2D)             (None, 254, 254, 32)      896       \n",
      "                                                                 \n",
      " max_pooling2d (MaxPooling2D  (None, 127, 127, 32)     0         \n",
      " )                                                               \n",
      "                                                                 \n",
      " conv2d_1 (Conv2D)           (None, 125, 125, 64)      18496     \n",
      "                                                                 \n",
      " max_pooling2d_1 (MaxPooling  (None, 62, 62, 64)       0         \n",
      " 2D)                                                             \n",
      "                                                                 \n",
      " flatten (Flatten)           (None, 246016)            0         \n",
      "                                                                 \n",
      " dense (Dense)               (None, 1)                 246017    \n",
      "                                                                 \n",
      "=================================================================\n",
      "Total params: 265,409\n",
      "Trainable params: 265,409\n",
      "Non-trainable params: 0\n",
      "_________________________________________________________________\n"
     ]
    }
   ],
   "source": [
    "model = tf.keras.Sequential([\n",
    "    layers.Conv2D(32, (3, 3), activation='relu', input_shape=(IMG_SIZE, IMG_SIZE, 3)),\n",
    "    layers.MaxPool2D((2, 2)),\n",
    "    layers.Conv2D(64, (3, 3), activation='relu'),\n",
    "    layers.MaxPool2D(2, 2),\n",
    "    layers.Flatten(),\n",
    "    layers.Dense(1, activation='sigmoid')\n",
    "])\n",
    "\n",
    "model.summary()\n",
    "\n",
    "model.compile(\n",
    "    optimizer='adam',\n",
    "    loss='binary_crossentropy',\n",
    "    metrics=['accuracy']\n",
    ")"
   ]
  },
  {
   "cell_type": "markdown",
   "id": "db31159c",
   "metadata": {},
   "source": [
    "## model train"
   ]
  },
  {
   "cell_type": "code",
   "execution_count": 37,
   "id": "c9244d49",
   "metadata": {},
   "outputs": [],
   "source": [
    "early_stopping = tf.keras.callbacks.EarlyStopping(\n",
    "    monitor='val_loss',\n",
    "    patience=5\n",
    ")\n",
    "\n",
    "model_path = 'vehicle_detection.h5'\n",
    "model_checkpoint = tf.keras.callbacks.ModelCheckpoint(\n",
    "    model_path,\n",
    "    save_best_only=True\n",
    ")"
   ]
  },
  {
   "cell_type": "code",
   "execution_count": 39,
   "id": "89d14298",
   "metadata": {},
   "outputs": [
    {
     "name": "stdout",
     "output_type": "stream",
     "text": [
      "Epoch 1/2\n",
      "444/444 [==============================] - 1618s 4s/step - loss: 0.0427 - accuracy: 0.9867 - val_loss: 0.0682 - val_accuracy: 0.9800\n",
      "Epoch 2/2\n",
      "444/444 [==============================] - 1869s 4s/step - loss: 0.0250 - accuracy: 0.9923 - val_loss: 0.0376 - val_accuracy: 0.9873\n"
     ]
    }
   ],
   "source": [
    "history = model.fit(\n",
    "    train_generator,\n",
    "    steps_per_epoch=len(train_generator),\n",
    "    epochs=2, #----can have more than 20 epoch\n",
    "    validation_data=test_generator,\n",
    "    validation_steps=len(test_generator),\n",
    "    callbacks=[early_stopping, model_checkpoint]\n",
    ")"
   ]
  },
  {
   "cell_type": "code",
   "execution_count": 40,
   "id": "49d82eef",
   "metadata": {},
   "outputs": [
    {
     "data": {
      "image/png": "[encoded data removed]",
      "text/plain": [
       "<Figure size 640x480 with 1 Axes>"
      ]
     },
     "metadata": {},
     "output_type": "display_data"
    },
    {
     "data": {
      "image/png": "[encoded data removed]",
      "text/plain": [
       "<Figure size 640x480 with 1 Axes>"
      ]
     },
     "metadata": {},
     "output_type": "display_data"
    }
   ],
   "source": [
    "plt.plot(history.history['loss'], label='Train Loss')\n",
    "plt.plot(history.history['val_loss'], label='Validation Loss')\n",
    "plt.legend()\n",
    "plt.show()\n",
    "\n",
    "plt.plot(history.history['accuracy'], label='Train Accuracy')\n",
    "plt.plot(history.history['val_accuracy'], label='Validation Accuracy')\n",
    "plt.legend()\n",
    "plt.show()\n"
   ]
  },
  {
   "cell_type": "markdown",
   "id": "d0bcbd5c",
   "metadata": {},
   "source": [
    "## Saving model"
   ]
  },
  {
   "cell_type": "code",
   "execution_count": 41,
   "id": "21f7104a",
   "metadata": {},
   "outputs": [
    {
     "name": "stdout",
     "output_type": "stream",
     "text": [
      "112/112 [==============================] - 140s 1s/step - loss: 0.0376 - accuracy: 0.9873\n"
     ]
    },
    {
     "data": {
      "text/plain": [
       "[0.037622012197971344, 0.987334668636322]"
      ]
     },
     "execution_count": 41,
     "metadata": {},
     "output_type": "execute_result"
    }
   ],
   "source": [
    "saved_model = tf.keras.models.load_model(model_path)\n",
    "saved_model.evaluate(test_generator)"
   ]
  },
  {
   "cell_type": "code",
   "execution_count": null,
   "id": "cf461483",
   "metadata": {},
   "outputs": [],
   "source": [
    " "
   ]
  }
 ],
 "metadata": {
  "kernelspec": {
   "display_name": "Python 3 (ipykernel)",
   "language": "python",
   "name": "python3"
  },
  "language_info": {
   "codemirror_mode": {
    "name": "ipython",
    "version": 3
   },
   "file_extension": ".py",
   "mimetype": "text/x-python",
   "name": "python",
   "nbconvert_exporter": "python",
   "pygments_lexer": "ipython3",
   "version": "3.10.9"
  }
 },
 "nbformat": 4,
 "nbformat_minor": 5
}
